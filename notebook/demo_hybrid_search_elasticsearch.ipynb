{
 "cells": [
  {
   "cell_type": "code",
   "execution_count": null,
   "id": "196d80c1",
   "metadata": {},
   "outputs": [],
   "source": [
    "\"\"\"\n",
    "In this demo:\n",
    "\n",
    "1. we will connect to local hosted elasticsearch\n",
    "2. we will extract 100 clinical notes from mimic-iv\n",
    "3. we will index these notes into elasticsearch using as both text and embeddings\n",
    "4. we will show how to do hybrid search using both embeddings and text features\n",
    "\"\"\""
   ]
  },
  {
   "cell_type": "code",
   "execution_count": null,
   "id": "86fe9738",
   "metadata": {
    "ExecuteTime": {
     "end_time": "2023-10-02T01:28:56.368440Z",
     "start_time": "2023-10-02T01:28:56.357315Z"
    }
   },
   "outputs": [],
   "source": [
    "%load_ext autoreload\n",
    "%autoreload 2"
   ]
  },
  {
   "cell_type": "markdown",
   "id": "1fb1fc30",
   "metadata": {},
   "source": [
    "## get notes from mimic-iv"
   ]
  },
  {
   "cell_type": "code",
   "execution_count": null,
   "id": "02c47116",
   "metadata": {
    "ExecuteTime": {
     "end_time": "2023-10-02T01:28:57.377621Z",
     "start_time": "2023-10-02T01:28:56.935374Z"
    }
   },
   "outputs": [],
   "source": [
    "# you need to download and put notes to a path you can access\n",
    "from pathlib import Path\n",
    "import pandas as pd\n",
    "import numpy as np\n",
    "import re\n",
    "\n",
    "\n",
    "mimic_iv_path = \"/Users/alexgre/Downloads/mimic-iv-note-deidentified-free-text-clinical-notes-2.2/note/\"\n",
    "p = Path(mimic_iv_path)\n",
    "target_num = 100"
   ]
  },
  {
   "cell_type": "code",
   "execution_count": null,
   "id": "7b98087e",
   "metadata": {
    "ExecuteTime": {
     "end_time": "2023-10-02T01:29:19.950880Z",
     "start_time": "2023-10-02T01:28:57.378849Z"
    }
   },
   "outputs": [],
   "source": [
    "df = pd.read_csv(p / \"discharge.csv\")"
   ]
  },
  {
   "cell_type": "code",
   "execution_count": null,
   "id": "60cac996",
   "metadata": {
    "ExecuteTime": {
     "end_time": "2023-10-02T01:29:20.005377Z",
     "start_time": "2023-10-02T01:29:19.952540Z"
    }
   },
   "outputs": [],
   "source": [
    "samples = []\n",
    "for _, v in df.groupby(\"subject_id\"):\n",
    "    v.apply(lambda x: samples.append((x.subject_id, x.note_id, x.text)), axis=1)\n",
    "    if len(samples) > target_num:\n",
    "        break\n",
    "        \n",
    "# a sample is (sub_id, note_id, note_text)\n",
    "len(samples)"
   ]
  },
  {
   "cell_type": "code",
   "execution_count": null,
   "id": "aca86416",
   "metadata": {
    "ExecuteTime": {
     "end_time": "2023-10-02T01:29:20.034338Z",
     "start_time": "2023-10-02T01:29:20.019493Z"
    }
   },
   "outputs": [],
   "source": [
    "ll = [len(e[-1].split()) for e in samples]\n",
    "np.median(ll), np.mean(ll), np.min(ll), np.max(ll)"
   ]
  },
  {
   "cell_type": "code",
   "execution_count": null,
   "id": "f2484b95",
   "metadata": {
    "ExecuteTime": {
     "end_time": "2023-10-02T01:29:20.057534Z",
     "start_time": "2023-10-02T01:29:20.035156Z"
    }
   },
   "outputs": [],
   "source": [
    "# convert into dict\n",
    "# chunk notes to short paragraphs so we can better index them\n",
    "index_samples = []\n",
    "\n",
    "for sample in samples:\n",
    "    sub_id, note_id, note_text = sample\n",
    "    sample_text = re.sub(\"\\n[ ]\\n\", \"\\n\\n\", note_text)\n",
    "    sample_text = re.sub(\"\\n{3,}\", \"\\n\\n\", note_text)\n",
    "    sample_chunks = [e.strip() for e in sample_text.split(\"\\n\\n\")]\n",
    "    \n",
    "    for i, chunk in enumerate(sample_chunks):\n",
    "        data = dict()\n",
    "        data[\"note_id\"] = note_id\n",
    "        data[\"subject_id\"] = sub_id\n",
    "        data[\"_id\"] = f\"{note_id}_{i+1}\"\n",
    "        data[\"text\"] = chunk\n",
    "        index_samples.append(data)"
   ]
  },
  {
   "cell_type": "code",
   "execution_count": null,
   "id": "7fa8f20e",
   "metadata": {
    "ExecuteTime": {
     "end_time": "2023-10-02T01:29:20.069298Z",
     "start_time": "2023-10-02T01:29:20.058449Z"
    }
   },
   "outputs": [],
   "source": [
    "index_samples[0]"
   ]
  },
  {
   "cell_type": "markdown",
   "id": "9ec4b063",
   "metadata": {},
   "source": [
    "##  index data"
   ]
  },
  {
   "cell_type": "code",
   "execution_count": null,
   "id": "bac5621b",
   "metadata": {
    "ExecuteTime": {
     "end_time": "2023-10-02T02:27:34.196079Z",
     "start_time": "2023-10-02T02:27:34.130245Z"
    }
   },
   "outputs": [],
   "source": [
    "import warnings\n",
    "warnings.filterwarnings(\"ignore\")\n",
    "\n",
    "# you need to change to your local elasticsearch config\n",
    "ELASTICSEARCH_USER = \"elastic\"\n",
    "ELASTICSEARCH_PASSWORD = \"gQwpE6_wwMZ6oY-iNQcC\"\n",
    "ELASTICSEARCH_URL = \"https://localhost:9200\""
   ]
  },
  {
   "cell_type": "code",
   "execution_count": null,
   "id": "1067de61",
   "metadata": {
    "ExecuteTime": {
     "end_time": "2023-10-02T02:27:34.397914Z",
     "start_time": "2023-10-02T02:27:34.333779Z"
    }
   },
   "outputs": [],
   "source": [
    "import sys\n",
    "sys.path.append(\"../../GatorRAG/src/\")"
   ]
  },
  {
   "cell_type": "code",
   "execution_count": null,
   "id": "e3f829dd",
   "metadata": {
    "ExecuteTime": {
     "end_time": "2023-10-02T02:27:34.563851Z",
     "start_time": "2023-10-02T02:27:34.513074Z"
    }
   },
   "outputs": [],
   "source": [
    "from gatorag.elasticsearch_engine import ElasticSearchEngine"
   ]
  },
  {
   "cell_type": "code",
   "execution_count": null,
   "id": "8432b3c0",
   "metadata": {
    "ExecuteTime": {
     "end_time": "2023-10-02T02:27:43.927253Z",
     "start_time": "2023-10-02T02:27:35.029503Z"
    }
   },
   "outputs": [],
   "source": [
    "index_name = \"mimic_iv_sample_100\"\n",
    "\n",
    "engine = ElasticSearchEngine(index_name=index_name)\n",
    "\n",
    "elastic_connect_info={\n",
    "    \"hosts\": ELASTICSEARCH_URL,\n",
    "    \"verify_certs\": False,\n",
    "    \"basic_auth\": (ELASTICSEARCH_USER, ELASTICSEARCH_PASSWORD)\n",
    "}\n",
    "\n",
    "engine.set_client(elastic_connect_info)"
   ]
  },
  {
   "cell_type": "code",
   "execution_count": null,
   "id": "a8d4123f",
   "metadata": {
    "ExecuteTime": {
     "end_time": "2023-10-02T02:27:46.492032Z",
     "start_time": "2023-10-02T02:27:43.929480Z"
    }
   },
   "outputs": [],
   "source": [
    "bge_dim = len(engine.bge.get_bge_embedding_single_sample(\"this is a test\"))\n",
    "instructor_dim = len(engine.instructor.get_instructor_embeddings_single_sample(\"this is a test\"))\n",
    "\n",
    "mimic_iv_mapping = {\n",
    "    \"mappings\": {\n",
    "        \"properties\": {\n",
    "            \"subject_id\": {\"type\": \"keyword\"},\n",
    "            \"note_id\": {\"type\": \"keyword\"},\n",
    "            \"text\": {\"type\": \"text\", \"analyzer\": \"english\"},\n",
    "            \"sparse_context\": {\n",
    "                \"type\": \"rank_features\",\n",
    "                \"positive_score_impact\": True,\n",
    "            },\n",
    "            \"instruct_emb\": {\n",
    "                \"type\": \"dense_vector\",\n",
    "                \"dims\": instructor_dim,\n",
    "                \"index\": True,\n",
    "                \"similarity\": \"cosine\",\n",
    "                \"index_options\": {\n",
    "                    \"type\": \"hnsw\",\n",
    "                    \"m\": 16,\n",
    "                    \"ef_construction\": 256,\n",
    "                },\n",
    "            },\n",
    "            \"bge_emb\": {\n",
    "                \"type\": \"dense_vector\",\n",
    "                \"dims\": bge_dim,\n",
    "                \"index\": True,\n",
    "                \"similarity\": \"cosine\",\n",
    "                \"index_options\": {\n",
    "                    \"type\": \"hnsw\",\n",
    "                    \"m\": 16,\n",
    "                    \"ef_construction\": 256,\n",
    "                },\n",
    "            },\n",
    "        }\n",
    "    }\n",
    "}\n",
    "\n",
    "engine.initialization()\n",
    "engine.create_index(customized_mapping=mimic_iv_mapping)"
   ]
  },
  {
   "cell_type": "code",
   "execution_count": null,
   "id": "94a0f00d",
   "metadata": {
    "ExecuteTime": {
     "end_time": "2023-10-02T02:39:12.966882Z",
     "start_time": "2023-10-02T02:27:46.493848Z"
    }
   },
   "outputs": [],
   "source": [
    "engine.index(index_samples)"
   ]
  },
  {
   "cell_type": "code",
   "execution_count": null,
   "id": "6250119c",
   "metadata": {
    "ExecuteTime": {
     "end_time": "2023-10-02T02:39:13.294124Z",
     "start_time": "2023-10-02T02:39:12.972239Z"
    }
   },
   "outputs": [],
   "source": [
    "# make a query text\n",
    "query_text = \"any discharge information about heart failure\""
   ]
  },
  {
   "cell_type": "code",
   "execution_count": null,
   "id": "a4d06cae",
   "metadata": {
    "ExecuteTime": {
     "end_time": "2023-10-02T02:39:13.761546Z",
     "start_time": "2023-10-02T02:39:13.295256Z"
    }
   },
   "outputs": [],
   "source": [
    "# BM25 only search\n",
    "req_body = {\"query\": {\"match\": {\"text\": {\"query\": query_text}}}}\n",
    "engine.search(req_body, top_k=10)"
   ]
  },
  {
   "cell_type": "code",
   "execution_count": null,
   "id": "961e255b",
   "metadata": {
    "ExecuteTime": {
     "end_time": "2023-10-02T02:41:07.867578Z",
     "start_time": "2023-10-02T02:41:07.483853Z"
    }
   },
   "outputs": [],
   "source": [
    "# BM25 + bge hybrid search\n",
    "bge_q_emb = engine.get_query_embedding(query=query_text, embedding_method=\"bge\")\n",
    "req_body = {\n",
    "    \"query\": {\"match\": {\"text\": {\"query\": query_text}}},\n",
    "    \"knn\": {\n",
    "        \"field\": \"bge_emb\",\n",
    "        \"query_vector\": bge_q_emb,\n",
    "        \"k\": 20,\n",
    "        \"num_candidates\": 64,\n",
    "    },\n",
    "}\n",
    "engine.search(req_body, top_k=10)"
   ]
  },
  {
   "cell_type": "code",
   "execution_count": null,
   "id": "28283d32",
   "metadata": {},
   "outputs": [],
   "source": [
    "# do some search\n",
    "#     ins_emb = self.instructor.get_instructor_embeddings_single_sample(query=text, is_query=True)\n",
    "#     gte_emb = self.gte.get_sentence_transformer_embeddings_single_sample(text)\n",
    "#     bge_emb = self.bge.get_bge_embedding_single_sample(text, is_qurey=True)\n",
    "#     sparse_query = [\n",
    "#         {\n",
    "#             \"rank_feature\": {\n",
    "#                 \"field\": f\"sparse_context.{k}\",\n",
    "#                 \"linear\": {},\n",
    "#                 \"boost\": v,\n",
    "#             }\n",
    "#         }\n",
    "#         for k, v in self.splade.get_splade_features_single_sample(query=text).items()\n",
    "#     ]\n",
    "#     sparse_query_bm25 = [\n",
    "#         {\"match\": {self.text_key: text}},\n",
    "#         {\"match\": {self.title_key: text}},\n",
    "#     ] + sparse_query\n",
    "    # def customized_search(self, text: str, top_hits: int, skip: int = 0, qtype: int = 0) -> Dict[str, object]:\n",
    "    # if qtype > 1:\n",
    "    #     ins_emb = self.instructor.get_instructor_embeddings_single_sample(query=text, is_query=True)\n",
    "    #     gte_emb = self.gte.get_sentence_transformer_embeddings_single_sample(text)\n",
    "    #     bge_emb = self.bge.get_bge_embedding_single_sample(text, is_qurey=True)\n",
    "    #     sparse_query = [\n",
    "    #         {\n",
    "    #             \"rank_feature\": {\n",
    "    #                 \"field\": f\"sparse_context.{k}\",\n",
    "    #                 \"linear\": {},\n",
    "    #                 \"boost\": v,\n",
    "    #             }\n",
    "    #         }\n",
    "    #         for k, v in self.splade.get_splade_features_single_sample(query=text).items()\n",
    "    #     ]\n",
    "    #     sparse_query_bm25 = [\n",
    "    #         {\"match\": {self.text_key: text}},\n",
    "    #         {\"match\": {self.title_key: text}},\n",
    "    #     ] + sparse_query\n",
    "    # else:\n",
    "    #     st_emb = []\n",
    "    #     ins_emb = []\n",
    "    #     sparse_query = []\n",
    "    #     sparse_query_bm25 = []\n",
    "\n",
    "    # if qtype == 1:\n",
    "    #     # BM25\n",
    "    #     req_body = {\"query\": {\"match\": {\"text\": {\"query\": text}}}}\n",
    "    # elif qtype == 2:\n",
    "    #     req_body = {\n",
    "    #         \"knn\": {\n",
    "    #             \"field\": \"sb_emb\",\n",
    "    #             \"query_vector\": st_emb,\n",
    "    #             \"k\": 20,\n",
    "    #             \"num_candidates\": 100,\n",
    "    #         },\n",
    "    #     }\n",
    "    # elif qtype == 3:\n",
    "    #     req_body = {\n",
    "    #         \"knn\": {\n",
    "    #             \"field\": \"ins_emb\",\n",
    "    #             \"query_vector\": ins_emb,\n",
    "    #             \"k\": 20,\n",
    "    #             \"num_candidates\": 100,\n",
    "    #         },\n",
    "    #     }\n",
    "    # elif qtype == 4:\n",
    "    #     req_body = {\n",
    "    #         \"query\": {\n",
    "    #             \"bool\": {\n",
    "    #                 \"should\": sparse_query,\n",
    "    #                 \"boost\": 0.5,\n",
    "    #                 \"minimum_should_match\": 1,\n",
    "    #             }\n",
    "    #         }\n",
    "    #     }\n",
    "    # elif qtype == 5:\n",
    "    #     req_body = {\n",
    "    #         \"knn\": [\n",
    "    #             {\n",
    "    #                 \"field\": \"sb_emb\",\n",
    "    #                 \"query_vector\": st_emb,\n",
    "    #                 \"k\": 20,\n",
    "    #                 \"num_candidates\": 100,\n",
    "    #                 \"boost\": 0.5,\n",
    "    #             },\n",
    "    #             {\n",
    "    #                 \"field\": \"ins_emb\",\n",
    "    #                 \"query_vector\": ins_emb,\n",
    "    #                 \"k\": 10,\n",
    "    #                 \"num_candidates\": 100,\n",
    "    #                 \"boost\": 0.5,\n",
    "    #             },\n",
    "    #         ],\n",
    "    #     }\n",
    "    # elif qtype == 6:\n",
    "    #     req_body = {\n",
    "    #         \"query\": {\"bool\": {\"should\": sparse_query_bm25}},\n",
    "    #         \"knn\": {\n",
    "    #             \"field\": \"ins_emb\",\n",
    "    #             \"query_vector\": ins_emb,\n",
    "    #             \"k\": 10,\n",
    "    #             \"num_candidates\": 100,\n",
    "    #         },\n",
    "    #     }\n",
    "    # elif qtype == 7:\n",
    "    #     req_body = {\n",
    "    #         \"query\": {\n",
    "    #             \"bool\": {\n",
    "    #                 \"should\": sparse_query_bm25,\n",
    "    #                 \"boost\": 0.2,\n",
    "    #                 \"minimum_should_match\": 1,\n",
    "    #             },\n",
    "    #         },\n",
    "    #         \"knn\": [\n",
    "    #             {\n",
    "    #                 \"field\": \"sb_emb\",\n",
    "    #                 \"query_vector\": st_emb,\n",
    "    #                 \"k\": 10,\n",
    "    #                 \"num_candidates\": 100,\n",
    "    #                 \"boost\": 0.3,\n",
    "    #             },\n",
    "    #             {\n",
    "    #                 \"field\": \"ins_emb\",\n",
    "    #                 \"query_vector\": ins_emb,\n",
    "    #                 \"k\": 10,\n",
    "    #                 \"num_candidates\": 100,\n",
    "    #                 \"boost\": 0.5,\n",
    "    #             },\n",
    "    #         ],\n",
    "    #     }\n",
    "    # elif qtype == 8:\n",
    "    #     req_body = {\n",
    "    #         \"query\": {\n",
    "    #             \"bool\": {\n",
    "    #                 \"should\": sparse_query,\n",
    "    #                 \"boost\": 0.2,\n",
    "    #                 \"minimum_should_match\": 1,\n",
    "    #             },\n",
    "    #         },\n",
    "    #         \"knn\": [\n",
    "    #             {\n",
    "    #                 \"field\": \"sb_emb\",\n",
    "    #                 \"query_vector\": st_emb,\n",
    "    #                 \"k\": 10,\n",
    "    #                 \"num_candidates\": 100,\n",
    "    #                 \"boost\": 0.3,\n",
    "    #             },\n",
    "    #             {\n",
    "    #                 \"field\": \"ins_emb\",\n",
    "    #                 \"query_vector\": ins_emb,\n",
    "    #                 \"k\": 10,\n",
    "    #                 \"num_candidates\": 100,\n",
    "    #                 \"boost\": 0.5,\n",
    "    #             },\n",
    "    #         ],\n",
    "    #     }\n",
    "    # elif qtype == 9:\n",
    "    #     req_body = {\n",
    "    #         \"knn\": {\n",
    "    #             \"field\": \"gte_emb\",\n",
    "    #             \"query_vector\": gte_emb,\n",
    "    #             \"k\": 20,\n",
    "    #             \"num_candidates\": 100,\n",
    "    #         },\n",
    "    #     }\n",
    "    # elif qtype == 10:\n",
    "    #     req_body = {\n",
    "    #         \"knn\": {\n",
    "    #             \"field\": \"bge_emb\",\n",
    "    #             \"query_vector\": bge_emb,\n",
    "    #             \"k\": 20,\n",
    "    #             \"num_candidates\": 100,\n",
    "    #         },\n",
    "    #     }\n",
    "    # elif qtype == 11:\n",
    "    #     req_body = {\n",
    "    #         \"query\": {\n",
    "    #             \"bool\": {\n",
    "    #                 \"should\": sparse_query,\n",
    "    #                 \"minimum_should_match\": 1,\n",
    "    #             },\n",
    "    #         },\n",
    "    #         \"knn\": {\n",
    "    #             \"field\": \"gte_emb\",\n",
    "    #             \"query_vector\": gte_emb,\n",
    "    #             \"k\": 20,\n",
    "    #             \"num_candidates\": 100,\n",
    "    #         },\n",
    "    #     }\n",
    "    # elif qtype == 12:\n",
    "    #     req_body = {\n",
    "    #         \"query\": {\n",
    "    #             \"bool\": {\n",
    "    #                 \"should\": [\n",
    "    #                     {\"match\": {self.text_key: text}},\n",
    "    #                     {\"match\": {self.title_key: text}},\n",
    "    #                 ],\n",
    "    #                 \"minimum_should_match\": 1,\n",
    "    #             },\n",
    "    #         },\n",
    "    #         \"knn\": {\n",
    "    #             \"field\": \"bge_emb\",\n",
    "    #             \"query_vector\": bge_emb,\n",
    "    #             \"k\": 20,\n",
    "    #             \"num_candidates\": 100,\n",
    "    #         },\n",
    "    #     }\n",
    "    # elif qtype == 13:\n",
    "    #     req_body = {\n",
    "    #         \"query\": {\n",
    "    #             \"bool\": {\n",
    "    #                 \"should\": [\n",
    "    #                     {\"match\": {self.text_key: text}},\n",
    "    #                     {\"match\": {self.title_key: text}},\n",
    "    #                 ]\n",
    "    #             }\n",
    "    #         },\n",
    "    #         \"knn\": {\n",
    "    #             \"field\": \"ins_emb\",\n",
    "    #             \"query_vector\": ins_emb,\n",
    "    #             \"k\": 20,\n",
    "    #             \"num_candidates\": 100,\n",
    "    #         },\n",
    "    #     }\n",
    "    # else:\n",
    "    #     raise NotImplementedError(f\"Query type {qtype} is not supported.\")    "
   ]
  }
 ],
 "metadata": {
  "kernelspec": {
   "display_name": "Python 3 (ipykernel)",
   "language": "python",
   "name": "python3"
  },
  "language_info": {
   "codemirror_mode": {
    "name": "ipython",
    "version": 3
   },
   "file_extension": ".py",
   "mimetype": "text/x-python",
   "name": "python",
   "nbconvert_exporter": "python",
   "pygments_lexer": "ipython3",
   "version": "3.10.10"
  }
 },
 "nbformat": 4,
 "nbformat_minor": 5
}
