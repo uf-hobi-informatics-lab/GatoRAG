{
 "cells": [
  {
   "cell_type": "code",
   "execution_count": null,
   "id": "edb72ac4",
   "metadata": {
    "ExecuteTime": {
     "end_time": "2023-10-02T15:15:11.235951Z",
     "start_time": "2023-10-02T15:15:11.224446Z"
    }
   },
   "outputs": [],
   "source": [
    "\"\"\"\n",
    "In this demo:\n",
    "\n",
    "1. we will connect to local hosted elasticsearch\n",
    "2. we will extract 100 clinical notes from mimic-iv\n",
    "3. we will index these notes into elasticsearch using as both text and embeddings\n",
    "4. we will show how to do hybrid search using both embeddings and text features\n",
    "\"\"\""
   ]
  },
  {
   "cell_type": "code",
   "execution_count": null,
   "id": "9e9f3985",
   "metadata": {
    "ExecuteTime": {
     "end_time": "2023-10-11T02:37:49.209020Z",
     "start_time": "2023-10-11T02:37:49.175540Z"
    }
   },
   "outputs": [],
   "source": [
    "%load_ext autoreload\n",
    "%autoreload 2"
   ]
  },
  {
   "cell_type": "code",
   "execution_count": null,
   "id": "4f7f358a",
   "metadata": {
    "ExecuteTime": {
     "end_time": "2023-10-11T02:37:57.243269Z",
     "start_time": "2023-10-11T02:37:56.832470Z"
    }
   },
   "outputs": [],
   "source": [
    "from pathlib import Path\n",
    "import pandas as pd\n",
    "import numpy as np\n",
    "import re"
   ]
  },
  {
   "cell_type": "markdown",
   "id": "1011c375",
   "metadata": {},
   "source": [
    "## create search engine"
   ]
  },
  {
   "cell_type": "code",
   "execution_count": null,
   "id": "87ee5ae9",
   "metadata": {
    "ExecuteTime": {
     "end_time": "2023-10-11T02:39:15.946149Z",
     "start_time": "2023-10-11T02:39:15.911050Z"
    }
   },
   "outputs": [],
   "source": [
    "import warnings\n",
    "warnings.filterwarnings(\"ignore\")\n",
    "\n",
    "# you need to change to your local elasticsearch config\n",
    "ELASTICSEARCH_USER = \"elastic\"\n",
    "ELASTICSEARCH_PASSWORD = \"vuCwlbtXnlnM5WCG2jy_\"\n",
    "ELASTICSEARCH_URL = \"https://localhost:9200\""
   ]
  },
  {
   "cell_type": "code",
   "execution_count": null,
   "id": "48cbf0c4",
   "metadata": {
    "ExecuteTime": {
     "end_time": "2023-10-11T02:39:16.403351Z",
     "start_time": "2023-10-11T02:39:16.370636Z"
    }
   },
   "outputs": [],
   "source": [
    "import sys\n",
    "sys.path.append(\"../../GatorRAG/src/\")"
   ]
  },
  {
   "cell_type": "code",
   "execution_count": null,
   "id": "eb3f5650",
   "metadata": {
    "ExecuteTime": {
     "end_time": "2023-10-11T02:39:23.075972Z",
     "start_time": "2023-10-11T02:39:21.232460Z"
    }
   },
   "outputs": [],
   "source": [
    "from gatorag.elasticsearch_engine import ElasticSearchEngine"
   ]
  },
  {
   "cell_type": "code",
   "execution_count": null,
   "id": "79c7dd1a",
   "metadata": {
    "ExecuteTime": {
     "end_time": "2023-10-11T02:40:36.234210Z",
     "start_time": "2023-10-11T02:40:30.713794Z"
    }
   },
   "outputs": [],
   "source": [
    "index_name = \"mimic_iv_sample_100\"\n",
    "\n",
    "engine = ElasticSearchEngine(index_name=index_name)\n",
    "\n",
    "elastic_connect_info={\n",
    "    \"hosts\": ELASTICSEARCH_URL,\n",
    "    \"verify_certs\": False,\n",
    "    \"basic_auth\": (ELASTICSEARCH_USER, ELASTICSEARCH_PASSWORD)\n",
    "}\n",
    "\n",
    "engine.set_client(elastic_connect_info)"
   ]
  },
  {
   "cell_type": "markdown",
   "id": "ff96eb52",
   "metadata": {},
   "source": [
    "## get notes from mimic-iv"
   ]
  },
  {
   "cell_type": "code",
   "execution_count": null,
   "id": "8fd8a14c",
   "metadata": {
    "ExecuteTime": {
     "end_time": "2023-10-11T02:37:08.622212Z",
     "start_time": "2023-10-11T02:37:08.542841Z"
    }
   },
   "outputs": [],
   "source": [
    "# you need to download and put notes to a path you can access\n",
    "mimic_iv_path = \"~/mimic-iv-note-deidentified-free-text-clinical-notes-2.2/note/\"\n",
    "p = Path(mimic_iv_path)\n",
    "target_num = 100"
   ]
  },
  {
   "cell_type": "code",
   "execution_count": null,
   "id": "cbb08f6f",
   "metadata": {
    "ExecuteTime": {
     "start_time": "2023-10-11T02:37:08.773Z"
    }
   },
   "outputs": [],
   "source": [
    "df = pd.read_csv(p / \"discharge.csv\")"
   ]
  },
  {
   "cell_type": "code",
   "execution_count": null,
   "id": "30bcdd49",
   "metadata": {
    "ExecuteTime": {
     "start_time": "2023-10-11T02:37:09.632Z"
    }
   },
   "outputs": [],
   "source": [
    "samples = []\n",
    "for _, v in df.groupby(\"subject_id\"):\n",
    "    v.apply(lambda x: samples.append((x.subject_id, x.note_id, x.text)), axis=1)\n",
    "    if len(samples) > target_num:\n",
    "        break\n",
    "        \n",
    "# a sample is (sub_id, note_id, note_text)\n",
    "len(samples)"
   ]
  },
  {
   "cell_type": "code",
   "execution_count": null,
   "id": "8d86a65b",
   "metadata": {
    "ExecuteTime": {
     "start_time": "2023-10-11T02:37:09.882Z"
    }
   },
   "outputs": [],
   "source": [
    "ll = [len(e[-1].split()) for e in samples]\n",
    "np.median(ll), np.mean(ll), np.min(ll), np.max(ll)"
   ]
  },
  {
   "cell_type": "code",
   "execution_count": null,
   "id": "cac2fb8c",
   "metadata": {
    "ExecuteTime": {
     "start_time": "2023-10-11T02:37:10.885Z"
    }
   },
   "outputs": [],
   "source": [
    "# convert into dict\n",
    "# chunk notes to short paragraphs so we can better index them\n",
    "index_samples = []\n",
    "\n",
    "for sample in samples:\n",
    "    sub_id, note_id, note_text = sample\n",
    "    sample_text = re.sub(\"\\n[ ]\\n\", \"\\n\\n\", note_text)\n",
    "    sample_text = re.sub(\"\\n{3,}\", \"\\n\\n\", note_text)\n",
    "    sample_chunks = [e.strip() for e in sample_text.split(\"\\n\\n\")]\n",
    "    \n",
    "    for i, chunk in enumerate(sample_chunks):\n",
    "        data = dict()\n",
    "        data[\"note_id\"] = note_id\n",
    "        data[\"subject_id\"] = sub_id\n",
    "        data[\"_id\"] = f\"{note_id}_{i+1}\"\n",
    "        data[\"text\"] = chunk\n",
    "        index_samples.append(data)"
   ]
  },
  {
   "cell_type": "code",
   "execution_count": null,
   "id": "70286e4e",
   "metadata": {
    "ExecuteTime": {
     "end_time": "2023-10-02T15:15:35.605250Z",
     "start_time": "2023-10-02T15:15:35.593510Z"
    }
   },
   "outputs": [],
   "source": [
    "index_samples[0]"
   ]
  },
  {
   "cell_type": "markdown",
   "id": "bff58916",
   "metadata": {},
   "source": [
    "##  index data"
   ]
  },
  {
   "cell_type": "code",
   "execution_count": null,
   "id": "c43f5e86",
   "metadata": {
    "ExecuteTime": {
     "end_time": "2023-10-02T15:15:49.336352Z",
     "start_time": "2023-10-02T15:15:46.227376Z"
    }
   },
   "outputs": [],
   "source": [
    "bge_dim = len(engine.bge.get_bge_embedding_single_sample(\"this is a test\"))\n",
    "instructor_dim = len(engine.instructor.get_instructor_embeddings_single_sample(\"this is a test\"))\n",
    "\n",
    "mimic_iv_mapping = {\n",
    "    \"mappings\": {\n",
    "        \"properties\": {\n",
    "            \"subject_id\": {\"type\": \"keyword\"},\n",
    "            \"note_id\": {\"type\": \"keyword\"},\n",
    "            \"text\": {\"type\": \"text\", \"analyzer\": \"english\"},\n",
    "            \"sparse_context\": {\n",
    "                \"type\": \"rank_features\",\n",
    "                \"positive_score_impact\": True,\n",
    "            },\n",
    "            \"instruct_emb\": {\n",
    "                \"type\": \"dense_vector\",\n",
    "                \"dims\": instructor_dim,\n",
    "                \"index\": True,\n",
    "                \"similarity\": \"cosine\",\n",
    "                \"index_options\": {\n",
    "                    \"type\": \"hnsw\",\n",
    "                    \"m\": 16,\n",
    "                    \"ef_construction\": 256,\n",
    "                },\n",
    "            },\n",
    "            \"bge_emb\": {\n",
    "                \"type\": \"dense_vector\",\n",
    "                \"dims\": bge_dim,\n",
    "                \"index\": True,\n",
    "                \"similarity\": \"cosine\",\n",
    "                \"index_options\": {\n",
    "                    \"type\": \"hnsw\",\n",
    "                    \"m\": 16,\n",
    "                    \"ef_construction\": 256,\n",
    "                },\n",
    "            },\n",
    "        }\n",
    "    }\n",
    "}\n",
    "\n",
    "engine.initialization()\n",
    "engine.create_index(customized_mapping=mimic_iv_mapping)"
   ]
  },
  {
   "cell_type": "code",
   "execution_count": null,
   "id": "0966e5f4",
   "metadata": {
    "ExecuteTime": {
     "end_time": "2023-10-11T02:52:16.662249Z",
     "start_time": "2023-10-11T02:52:16.548431Z"
    }
   },
   "outputs": [],
   "source": [
    "engine.es.indices.stats()[\"indices\"]"
   ]
  },
  {
   "cell_type": "code",
   "execution_count": null,
   "id": "9400fe80",
   "metadata": {
    "ExecuteTime": {
     "end_time": "2023-10-11T03:13:12.326722Z",
     "start_time": "2023-10-11T03:13:12.202711Z"
    }
   },
   "outputs": [],
   "source": [
    "engine.es.indices.get_mapping(index=engine.index_name)[engine.index_name][\"mappings\"]"
   ]
  },
  {
   "cell_type": "markdown",
   "id": "7ccfa5aa",
   "metadata": {},
   "source": [
    "## query"
   ]
  },
  {
   "cell_type": "code",
   "execution_count": null,
   "id": "36a62456",
   "metadata": {
    "ExecuteTime": {
     "end_time": "2023-10-11T03:21:36.433163Z",
     "start_time": "2023-10-11T03:21:36.159063Z"
    }
   },
   "outputs": [],
   "source": [
    "# make a query text\n",
    "query_text = \"any discharge information about heart failure\""
   ]
  },
  {
   "cell_type": "code",
   "execution_count": null,
   "id": "97bcf37a",
   "metadata": {
    "ExecuteTime": {
     "end_time": "2023-10-11T03:21:36.590015Z",
     "start_time": "2023-10-11T03:21:36.435033Z"
    }
   },
   "outputs": [],
   "source": [
    "# BM25 only search\n",
    "req_body = {\"query\": {\"match\": {\"text\": {\"query\": query_text}}}}\n",
    "engine.search(req_body, top_k=20)"
   ]
  },
  {
   "cell_type": "code",
   "execution_count": null,
   "id": "a50e6c6b",
   "metadata": {
    "ExecuteTime": {
     "end_time": "2023-10-11T03:24:01.594759Z",
     "start_time": "2023-10-11T03:24:01.150424Z"
    }
   },
   "outputs": [],
   "source": [
    "# BM25 only search with metadata filter\n",
    "req_body = {\n",
    "  \"query\": {\n",
    "    \"bool\" : {\n",
    "      \"must\": [\n",
    "        {\"match\": {\"text\": {\"query\": query_text}}},\n",
    "        {\"match\": {\"subject_id\": {\"query\": \"10000980\"}}},\n",
    "      ]\n",
    "    }\n",
    "  }\n",
    "}\n",
    "\n",
    "engine.search(req_body, top_k=20)"
   ]
  },
  {
   "cell_type": "code",
   "execution_count": null,
   "id": "e9a96800",
   "metadata": {
    "ExecuteTime": {
     "end_time": "2023-10-11T03:27:39.740704Z",
     "start_time": "2023-10-11T03:27:37.566801Z"
    },
    "scrolled": true
   },
   "outputs": [],
   "source": [
    "# embedding search only\n",
    "bge_q_emb = engine.get_query_embedding(query=query_text, embedding_method=\"bge\")\n",
    "req_body = {\n",
    "    \"knn\": {\n",
    "        \"field\": \"bge_emb\",\n",
    "        \"query_vector\": bge_q_emb,\n",
    "        \"k\": 20,\n",
    "        \"num_candidates\": 32,\n",
    "    }\n",
    "}\n",
    "engine.search(req_body, top_k=10)"
   ]
  },
  {
   "cell_type": "code",
   "execution_count": null,
   "id": "5c91ce34",
   "metadata": {
    "ExecuteTime": {
     "end_time": "2023-10-11T03:28:10.907944Z",
     "start_time": "2023-10-11T03:28:10.497917Z"
    },
    "scrolled": true
   },
   "outputs": [],
   "source": [
    "# BM25 + bge hybrid search use boost to combine results\n",
    "# note here you need to manual define the boost values\n",
    "bge_q_emb = engine.get_query_embedding(query=query_text, embedding_method=\"bge\")\n",
    "req_body = {\n",
    "    \"query\": {\"match\": {\"text\": {\"query\": query_text, \"boost\": 0.3}}},\n",
    "    \"knn\": {\n",
    "        \"field\": \"bge_emb\",\n",
    "        \"query_vector\": bge_q_emb,\n",
    "        \"k\": 20,\n",
    "        \"num_candidates\": 64,\n",
    "        \"boost\": 0.7\n",
    "    },\n",
    "}\n",
    "engine.search(req_body, top_k=10)"
   ]
  },
  {
   "cell_type": "code",
   "execution_count": null,
   "id": "498c5069",
   "metadata": {},
   "outputs": [],
   "source": []
  }
 ],
 "metadata": {
  "kernelspec": {
   "display_name": "Python 3 (ipykernel)",
   "language": "python",
   "name": "python3"
  },
  "language_info": {
   "codemirror_mode": {
    "name": "ipython",
    "version": 3
   },
   "file_extension": ".py",
   "mimetype": "text/x-python",
   "name": "python",
   "nbconvert_exporter": "python",
   "pygments_lexer": "ipython3",
   "version": "3.10.10"
  }
 },
 "nbformat": 4,
 "nbformat_minor": 5
}
